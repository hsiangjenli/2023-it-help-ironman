{
 "cells": [
  {
   "cell_type": "code",
   "execution_count": 1,
   "metadata": {},
   "outputs": [
    {
     "name": "stdout",
     "output_type": "stream",
     "text": [
      "Epoch 0, Loss: 10.34440803527832\n",
      "Epoch 1, Loss: 9.939845085144043\n",
      "Epoch 2, Loss: 9.619058609008789\n",
      "Epoch 3, Loss: 9.353951454162598\n"
     ]
    }
   ],
   "source": [
    "import torch\n",
    "import torch_geometric\n",
    "from torch_geometric.datasets import KarateClub\n",
    "from torch_geometric.nn import Node2Vec\n",
    "from torch_geometric.utils import to_networkx\n",
    "import networkx as nx\n",
    "import matplotlib.pyplot as plt\n",
    "\n",
    "# 加載示例數據集，這裡使用 Karate Club 數據集作為範例\n",
    "dataset = KarateClub()\n",
    "data = dataset[0]\n",
    "\n",
    "# 設定 Node2Vec 模型的超參數\n",
    "walk_length = 20\n",
    "context_size = 10\n",
    "embedding_dim = 128\n",
    "walks_per_node = 10\n",
    "p = 1.0\n",
    "q = 1.0\n",
    "\n",
    "# 初始化 Node2Vec 模型\n",
    "model = Node2Vec(data.edge_index, embedding_dim, walk_length, context_size, walks_per_node, p, q)\n",
    "\n",
    "# 將模型切換到訓練模式\n",
    "model.train()\n",
    "\n",
    "# 定義損失函數和優化器\n",
    "criterion = torch.nn.CrossEntropyLoss()\n",
    "optimizer = torch.optim.Adam(model.parameters(), lr=0.01)\n",
    "loader = model.loader(batch_size=128, shuffle=True, num_workers=4)\n",
    "\n",
    "# 訓練模型\n",
    "for epoch in range(4):\n",
    "    for pos_rw, neg_rw in loader:\n",
    "        optimizer.zero_grad()\n",
    "        loss = model.loss(pos_rw.to(\"cpu\"), neg_rw.to(\"cpu\"))\n",
    "        loss.backward()\n",
    "        optimizer.step()\n",
    "        print(f'Epoch {epoch}, Loss: {loss.item()}')\n",
    "\n",
    "# 將模型切換到評估模式\n",
    "model.eval()\n",
    "\n",
    "# 進行預測，獲得節點嵌入\n",
    "with torch.no_grad():\n",
    "    embeddings = model()\n"
   ]
  },
  {
   "cell_type": "code",
   "execution_count": 2,
   "metadata": {},
   "outputs": [
    {
     "data": {
      "text/plain": [
       "Parameter containing:\n",
       "tensor([[ 1.3044,  1.4876,  1.3902,  ...,  1.1390,  1.3349, -0.9400],\n",
       "        [ 0.6600, -0.0955,  0.5711,  ...,  0.0175,  0.3856,  0.3038],\n",
       "        [-1.1797,  0.4426,  1.3323,  ...,  0.9232,  2.0027, -0.6844],\n",
       "        ...,\n",
       "        [-1.0084, -0.0923,  0.4502,  ..., -0.1608, -0.8982, -1.4034],\n",
       "        [-0.7189, -0.0336,  0.3899,  ..., -0.1815, -1.2432,  0.2965],\n",
       "        [ 0.2004,  1.0188,  0.4942,  ..., -1.0302,  0.9087,  0.4428]],\n",
       "       requires_grad=True)"
      ]
     },
     "execution_count": 2,
     "metadata": {},
     "output_type": "execute_result"
    }
   ],
   "source": [
    "embeddings"
   ]
  },
  {
   "cell_type": "code",
   "execution_count": null,
   "metadata": {},
   "outputs": [],
   "source": []
  }
 ],
 "metadata": {
  "kernelspec": {
   "display_name": "base",
   "language": "python",
   "name": "python3"
  },
  "language_info": {
   "codemirror_mode": {
    "name": "ipython",
    "version": 3
   },
   "file_extension": ".py",
   "mimetype": "text/x-python",
   "name": "python",
   "nbconvert_exporter": "python",
   "pygments_lexer": "ipython3",
   "version": "3.11.4"
  },
  "orig_nbformat": 4
 },
 "nbformat": 4,
 "nbformat_minor": 2
}

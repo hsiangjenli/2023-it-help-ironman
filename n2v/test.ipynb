{
 "cells": [
  {
   "cell_type": "code",
   "execution_count": 18,
   "metadata": {},
   "outputs": [],
   "source": [
    "import torch\n",
    "import matplotlib.pyplot as plt\n",
    "from sklearn.manifold import TSNE\n",
    "from torch_geometric.datasets import Planetoid\n",
    "from torch_geometric.nn import Node2Vec\n",
    "\n",
    "dataset = Planetoid(root='/tmp/Cora', name='Cora')\n",
    "data = dataset[0]\n",
    "\n",
    "device = 'cuda' if torch.cuda.is_available() else 'cpu'\n",
    "model = Node2Vec(data.edge_index, embedding_dim=128, walk_length=20,\n",
    "                 context_size=10, walks_per_node=10, num_negative_samples=1,\n",
    "                 sparse=True).to(device)\n",
    "loader = model.loader(batch_size=128, shuffle=True, num_workers=4)\n",
    "optimizer = torch.optim.SparseAdam(model.parameters(), lr=0.01)"
   ]
  },
  {
   "cell_type": "code",
   "execution_count": 2,
   "metadata": {},
   "outputs": [
    {
     "name": "stdout",
     "output_type": "stream",
     "text": [
      "tensor([[ 191, 1998,  519,  ..., 1670,  519,  387],\n",
      "        [2680, 2594, 2680,  ...,  482,  218, 2119],\n",
      "        [1887, 1103, 1520,  ..., 1358,  748,  274],\n",
      "        ...,\n",
      "        [1396, 1421, 2394,  ..., 1174,   88, 2015],\n",
      "        [1401,  258, 1153,  ..., 1153, 1401,   89],\n",
      "        [1175, 2359, 1834,  ..., 1358, 1724, 1358]])\n",
      "tensor([[ 191, 2557,  346,  ...,  604, 1040, 1000],\n",
      "        [2680, 1132,   97,  ..., 1899, 1146, 2674],\n",
      "        [1887, 1174, 2629,  ..., 2574,  898,    4],\n",
      "        ...,\n",
      "        [1740, 1069,  670,  ...,  707, 1186, 1875],\n",
      "        [1012, 1635, 2125,  ...,  696,  951,  389],\n",
      "        [2082,  390, 2664,  ..., 1890, 1916, 2234]])\n",
      "tensor([[2123, 2003, 2123,  ..., 2001,  429, 1889],\n",
      "        [1387, 1190, 1387,  ..., 2427,   37,   60],\n",
      "        [1857,  304, 2423,  ..., 1857, 1701,  767],\n",
      "        ...,\n",
      "        [2635, 2634, 2635,  ..., 2634, 2635, 2634],\n",
      "        [ 965, 2197, 2181,  ..., 1330, 2068, 1330],\n",
      "        [2503,  403, 2654,  ..., 2655, 2654, 2655]])\n",
      "tensor([[2123,  391, 1762,  ...,  187, 2497, 1967],\n",
      "        [1387,  294, 1354,  ..., 2196, 1737, 2123],\n",
      "        [1857, 1107,  306,  ..., 1461, 1154, 1036],\n",
      "        ...,\n",
      "        [2431, 1409,  280,  ..., 2200, 2588, 2046],\n",
      "        [1904, 2034, 1805,  ..., 2092, 1662, 1245],\n",
      "        [2692, 1282,  507,  ...,  191, 1451,  797]])\n",
      "tensor([[2594,  218,  781,  ...,  836, 2403, 2402],\n",
      "        [  58, 1715,   58,  ..., 2503, 2445, 2503],\n",
      "        [ 186, 2580, 1228,  ...,  186, 2580,  972],\n",
      "        ...,\n",
      "        [ 440,  895, 1296,  ..., 1296,  895,   35],\n",
      "        [2498,  271, 2498,  ..., 1703, 1417, 2350],\n",
      "        [2243, 2246, 1595,  ..., 2509, 1987, 2004]])\n",
      "tensor([[2594, 2139,  168,  ...,  567, 2077,  516],\n",
      "        [  58,  567,  949,  ...,  165, 2549, 2002],\n",
      "        [ 186,   80, 1744,  ..., 2367, 1867, 2244],\n",
      "        ...,\n",
      "        [1094,  880,  663,  ...,  350,  828,  304],\n",
      "        [2036,  105, 2315,  ..., 1549, 1190,  799],\n",
      "        [1780,  187, 1539,  ..., 2450,  903, 1798]])\n",
      "tensor([[1222,  925, 1222,  ...,  925, 1222,  925],\n",
      "        [1830, 2045, 1787,  ..., 1810,  835, 1654],\n",
      "        [2283, 1131, 2185,  ..., 2030, 2112, 2436],\n",
      "        ...,\n",
      "        [ 239, 2418,   65,  ..., 1079, 1914,  506],\n",
      "        [2303, 2541, 1591,  ..., 2541, 2303,  733],\n",
      "        [1942,  875,  914,  ..., 1944,  336, 1950]])\n",
      "tensor([[1222,  293, 1359,  ..., 1884, 2523, 2047],\n",
      "        [1830,  724,  114,  ..., 1737, 1885,  878],\n",
      "        [2283, 1279, 1996,  ..., 2451,  708,  185],\n",
      "        ...,\n",
      "        [2509, 2671,  479,  ...,  332, 1854, 2403],\n",
      "        [1312, 2282, 1965,  ...,  691,  799, 2400],\n",
      "        [2177, 1478,  422,  ..., 1072, 2135, 1243]])\n",
      "tensor([[1344, 1928, 1447,  ..., 1675, 1074, 1501],\n",
      "        [1947,  310, 1950,  ...,  875, 1942, 1542],\n",
      "        [1603,  968, 1986,  ..., 2360,  606, 1666],\n",
      "        ...,\n",
      "        [ 733, 2011,  733,  ..., 2305, 1278, 2305],\n",
      "        [2223,   75, 2223,  ...,   84, 2223,   75],\n",
      "        [1864, 1701, 1299,  ..., 1121,  835, 1654]])\n",
      "tensor([[1344,  585,   78,  ..., 2074,  192, 1103],\n",
      "        [1947,  543, 1804,  ...,  238, 1929,  380],\n",
      "        [1603, 2060, 2140,  ...,  572, 1573, 1327],\n",
      "        ...,\n",
      "        [ 294, 1184, 2494,  ..., 2259,  851,  240],\n",
      "        [1524, 2102, 1284,  ..., 1206,  344, 2667],\n",
      "        [1234, 1655, 2642,  ...,  461, 1501,  115]])\n",
      "tensor([[2442, 1229, 2441,  ..., 2442,  657, 2522],\n",
      "        [ 248, 1264,  248,  ..., 1966, 1702, 1703],\n",
      "        [ 986, 2697,  986,  ..., 2697,  986, 2697],\n",
      "        ...,\n",
      "        [2024,  885,  436,  ..., 2013,  471, 1013],\n",
      "        [2139,   24,  201,  ..., 1701,  664, 1701],\n",
      "        [2387,  638,  924,  ..., 2383,  924, 2383]])\n",
      "tensor([[2442,  605,  461,  ..., 1982, 1278, 1275],\n",
      "        [ 248, 1930,  642,  ...,  796, 2550, 1877],\n",
      "        [ 986,   10, 1920,  ..., 1901,  600, 1713],\n",
      "        ...,\n",
      "        [2000, 1464,  942,  ..., 2184,  472,  283],\n",
      "        [2186,  419, 2499,  ...,  708,  811, 1944],\n",
      "        [1830, 1247, 1779,  ..., 1460,  840, 2065]])\n",
      "tensor([[ 346,  999,  346,  ..., 1154,  957, 1358],\n",
      "        [ 171,  790, 1810,  ..., 2107, 1505,   36],\n",
      "        [ 789, 1240, 1443,  ..., 1131, 2282, 1655],\n",
      "        ...,\n",
      "        [1778, 1624, 1785,  ...,  638,  924,  638],\n",
      "        [ 525, 2182, 1139,  ..., 2219,  475, 2219],\n",
      "        [2437,  167, 2482,  ..., 1056, 2482, 1056]])\n",
      "tensor([[ 346, 2430,  473,  ..., 2704, 2050,  172],\n",
      "        [ 171, 2352, 1791,  ..., 2334,  132,    5],\n",
      "        [ 789,  126, 1470,  ..., 2019, 2501, 1936],\n",
      "        ...,\n",
      "        [1714, 1746, 1276,  ..., 1541,  497,   21],\n",
      "        [1272, 2053,  173,  ...,  991,  295, 1367],\n",
      "        [1784,  682, 2489,  ..., 1762,  672, 2239]])\n",
      "tensor([[2696, 2615, 2696,  ..., 2329, 2330, 2203],\n",
      "        [2309, 1399, 1396,  ..., 1421, 1420, 1421],\n",
      "        [1985,  438,  718,  ..., 2335, 1519, 1015],\n",
      "        ...,\n",
      "        [1044,  713, 1044,  ...,  713, 1044,  713],\n",
      "        [ 454, 1661, 1013,  ..., 1487, 2137, 1487],\n",
      "        [ 819,  650, 1557,  ...,  154, 1753,  154]])\n",
      "tensor([[2696, 1907, 1206,  ..., 1145, 1492,  839],\n",
      "        [2309,  864,  193,  ...,  839, 1930, 1792],\n",
      "        [1985, 2461, 2434,  ..., 1941,  142, 1849],\n",
      "        ...,\n",
      "        [1685, 2174, 1681,  ..., 2031,  313,  891],\n",
      "        [1073, 2071, 1774,  ..., 2475, 1401,  454],\n",
      "        [2090, 1417, 1314,  ..., 1024,  102, 1147]])\n",
      "tensor([[ 354,  659,  354,  ..., 1803, 1072,  958],\n",
      "        [1087, 2434, 1087,  ...,   89,  884,  152],\n",
      "        [ 230, 1810, 1817,  ..., 1701,  343,  311],\n",
      "        ...,\n",
      "        [  22, 1702, 1971,  ...,   22, 1703, 2238],\n",
      "        [ 306, 1770,  306,  ...,  958, 1798, 1072],\n",
      "        [2225,  583, 2224,  ..., 2225,  583,   75]])\n",
      "tensor([[ 354,  539,   78,  ...,  811,   31,  924],\n",
      "        [1087, 1114,  245,  ..., 1678, 1992, 2428],\n",
      "        [ 230,  930, 1728,  ..., 1577, 2216, 1259],\n",
      "        ...,\n",
      "        [1090, 2177, 2182,  ..., 1382, 2540,  870],\n",
      "        [ 332, 1035, 2441,  ..., 2112,  483,  381],\n",
      "        [ 505,  749, 1010,  ..., 1732,  758, 2316]])\n",
      "tensor([[1089, 2086, 1505,  ..., 1699,  484, 2081],\n",
      "        [2111,  711,  644,  ..., 1258,  644,  596],\n",
      "        [2256, 1878,  661,  ...,  854,  935,  451],\n",
      "        ...,\n",
      "        [  71, 1986, 1166,  ..., 1212, 1701, 1852],\n",
      "        [1382, 2283, 1131,  ..., 1500, 1538, 1131],\n",
      "        [2335, 2259, 2337,  ...,  415,   88, 2014]])\n",
      "tensor([[1089,   26, 2178,  ..., 2580,  126, 1412],\n",
      "        [2111, 2036, 2551,  ..., 2236, 2644,  218],\n",
      "        [2256, 2611,  305,  ...,  617, 1279, 2032],\n",
      "        ...,\n",
      "        [1143, 1553, 2619,  ..., 1465,  362,   73],\n",
      "        [1915, 2615,  533,  ...,  385,  203, 2167],\n",
      "        [ 168,  837, 1868,  ...,  879, 2438, 2187]])\n",
      "tensor([[1103, 1520, 1750,  ..., 2221,  823, 1169],\n",
      "        [2490, 2263, 2490,  ..., 1160,   38,  429],\n",
      "        [2349, 1185,  278,  ..., 1469, 2358, 2349],\n",
      "        ...,\n",
      "        [1701,  143, 1701,  ..., 1297,  598, 1823],\n",
      "        [1358,  552, 2201,  ...,   95, 2074, 2277],\n",
      "        [1627, 1308, 1627,  ..., 1229, 1627, 1308]])\n",
      "tensor([[1103, 2283,  375,  ..., 2011,  496, 1655],\n",
      "        [2490, 1952, 2676,  ..., 2707, 1537,  731],\n",
      "        [2349,  891,  280,  ..., 2511, 2270, 1639],\n",
      "        ...,\n",
      "        [2508, 1746, 2308,  ..., 2113,  297, 2175],\n",
      "        [  69,  643,  622,  ..., 2598, 1266, 1400],\n",
      "        [1284,   11,  485,  ...,  755,  899, 2567]])\n",
      "tensor([[2632, 2539,  237,  ...,  979, 1503, 2243],\n",
      "        [1234,   22, 1234,  ..., 1417, 1452, 1417],\n",
      "        [1998,  519,  109,  ..., 1270, 1622, 1289],\n",
      "        ...,\n",
      "        [ 850,  712, 1464,  ..., 2480,  331, 2480],\n",
      "        [1066, 1574,  519,  ..., 1571, 1045,  109],\n",
      "        [2477, 2006, 2477,  ...,  916, 1026, 2034]])\n",
      "tensor([[2632, 2019, 1473,  ...,  358,  669, 1864],\n",
      "        [1234,  230, 1277,  ...,  315,  566,  356],\n",
      "        [1998,   10, 2576,  ..., 2423,  589, 2207],\n",
      "        ...,\n",
      "        [1213,  854,  228,  ..., 1474,  554, 2118],\n",
      "        [2074, 2641,  788,  ..., 1022, 1445,  138],\n",
      "        [ 957,  455, 2635,  ..., 2277,   71,  627]])\n",
      "tensor([[2398, 2493,  855,  ...,  811,  900,  811],\n",
      "        [ 194, 1050, 1230,  ..., 2646,  194,  473],\n",
      "        [ 229, 2118, 2117,  ..., 1894, 1655, 1839],\n",
      "        ...,\n",
      "        [1788, 1624, 1705,  ..., 1193, 1705, 2322],\n",
      "        [1848, 1376, 1848,  ..., 1909, 2305, 2306],\n",
      "        [2462, 1442,  432,  ..., 1442,  432, 1442]])\n",
      "tensor([[2398, 1492,  587,  ...,  528, 2449,  871],\n",
      "        [ 194, 2024, 1305,  ...,  154, 1237, 1195],\n",
      "        [ 229, 2575, 2427,  ..., 1308, 1099, 1565],\n",
      "        ...,\n",
      "        [2619, 2502, 2315,  ..., 1404, 1200,  526],\n",
      "        [ 787, 1944, 1920,  ..., 2408, 2221, 2533],\n",
      "        [1657,  328, 2678,  ..., 1709, 1161, 2263]])\n",
      "tensor([[2314,  767,   54,  ..., 2210,  104, 2210],\n",
      "        [ 183,  182,  997,  ..., 1837,  997,  182],\n",
      "        [2175, 1256, 2175,  ...,  595, 1016, 2176],\n",
      "        ...,\n",
      "        [2288,  114,  610,  ..., 2592, 1903,  793],\n",
      "        [1515, 2234, 1515,  ..., 1628, 2057, 1628],\n",
      "        [ 671,  441,  129,  ..., 1914,   41, 1914]])\n",
      "tensor([[2314, 2237,  396,  ..., 1379, 1276,  961],\n",
      "        [ 183,  926, 1302,  ..., 1728, 1823, 1968],\n",
      "        [2175,  855, 1590,  ...,  878,   44, 2567],\n",
      "        ...,\n",
      "        [1224, 1924,  107,  ..., 1656,  119, 1084],\n",
      "        [ 235, 2301, 1061,  ...,  246, 2112,  801],\n",
      "        [ 985,  334,  111,  ..., 1843, 2046, 2600]])\n",
      "tensor([[1815, 1950, 1947,  ...,  598,  519,  306],\n",
      "        [ 377, 2291,  733,  ...,  781, 2402,  781],\n",
      "        [ 704, 1483, 1072,  ...,  124, 1367,  484],\n",
      "        ...,\n",
      "        [1580, 1892, 1889,  ..., 2332, 1481, 2335],\n",
      "        [2254, 1146, 2254,  ..., 1505, 2107,   36],\n",
      "        [1721, 2476,  105,  ..., 1358, 1747, 1358]])\n",
      "tensor([[1815, 2268,  961,  ..., 1340, 2126, 2066],\n",
      "        [ 377, 1843,  623,  ..., 1361, 1823, 2473],\n",
      "        [ 704, 2547, 2188,  ...,  565, 2218, 1741],\n",
      "        ...,\n",
      "        [ 681, 2435,  668,  ...,  352,  885, 1077],\n",
      "        [1672, 1598,  665,  ..., 2594, 2400,  729],\n",
      "        [2401, 1968,  739,  ..., 2470, 1419,  621]])\n",
      "tensor([[ 835, 1121, 1810,  ..., 1868,  316, 1297],\n",
      "        [ 815, 1174,   88,  ..., 2012,  272, 2012],\n",
      "        [1701, 1853, 1701,  ..., 1615, 1665, 1701],\n",
      "        ...,\n",
      "        [1553, 1408,  370,  ...,  128, 2270,  128],\n",
      "        [ 729,  669, 1124,  ..., 2247, 2246, 2243],\n",
      "        [ 996, 1135, 1071,  ..., 1257,  688,  492]])\n",
      "tensor([[ 835, 2190, 1081,  ..., 1603,  670, 1195],\n",
      "        [ 815, 1029, 2650,  ...,  729,  667, 2230],\n",
      "        [1701, 1117,  822,  ..., 1517, 2613, 2052],\n",
      "        ...,\n",
      "        [  79, 2274, 1760,  ...,  693,  694, 2377],\n",
      "        [2429,   86, 1806,  ...,  142,  552, 2438],\n",
      "        [1256, 1557,   92,  ..., 1184, 1298, 2162]])\n",
      "tensor([[1413, 1931,  507,  ..., 1542,  338, 1413],\n",
      "        [ 589, 1158, 2251,  ..., 1158, 2382, 2383],\n",
      "        [1827, 1828, 1827,  ..., 1827, 1553, 1409],\n",
      "        ...,\n",
      "        [1983,   55, 1983,  ...,  916, 1026, 2531],\n",
      "        [ 470,  857,  854,  ...,  205, 1869,  199],\n",
      "        [ 678,  733, 2291,  ..., 2182,  858, 2182]])\n",
      "tensor([[1413, 1202, 1864,  ...,  214, 1134,  189],\n",
      "        [ 589, 2392, 2666,  ..., 2021,   12, 2418],\n",
      "        [1827, 2587, 2463,  ...,  689, 2140, 1242],\n",
      "        ...,\n",
      "        [1144,   63, 2609,  ...,  303, 2447, 2366],\n",
      "        [2074, 1718,  481,  ...,  979, 2550,  292],\n",
      "        [ 204, 1376, 2693,  ...,  613, 2266,  987]])\n",
      "tensor([[1480, 1358,  613,  ..., 1358,  758,  111],\n",
      "        [ 750, 1441,  454,  ..., 1042, 1025,  373],\n",
      "        [ 724, 2395, 1396,  ..., 2394, 2397, 2394],\n",
      "        ...,\n",
      "        [ 176,  973,  306,  ..., 2034,  691, 2130],\n",
      "        [2543, 1000,  281,  ..., 1761,  223, 1154],\n",
      "        [2001, 2381, 2001,  ..., 2066, 2122,  627]])\n",
      "tensor([[1480,  356, 1852,  ...,  992,  169,  182],\n",
      "        [ 750,  475, 2565,  ..., 1464, 2665, 1527],\n",
      "        [ 724, 2375, 2517,  ..., 1517,  281, 1584],\n",
      "        ...,\n",
      "        [ 774,  437,  896,  ..., 1363, 1688, 1928],\n",
      "        [2395, 2024,  310,  ...,  531,  375, 1001],\n",
      "        [1165,  362, 2471,  ...,  686, 2136, 1603]])\n",
      "tensor([[1960, 1360, 1650,  ...,  107, 1113,  107],\n",
      "        [2422, 1920,   69,  ..., 1926,   69, 2189],\n",
      "        [1939, 1542, 1177,  ...,  507, 1300,  877],\n",
      "        ...,\n",
      "        [2539, 2540, 2539,  ..., 2632, 2539, 2632],\n",
      "        [1072,  189,  564,  ...,  189, 1509,  189],\n",
      "        [1701, 1865, 1147,  ..., 1490,  306,  656]])\n",
      "tensor([[1960, 1585,   13,  ..., 1205, 1033,  530],\n",
      "        [2422, 2127,  328,  ..., 2629,    9,   32],\n",
      "        [1939, 2002, 1623,  ...,  191, 1889, 2288],\n",
      "        ...,\n",
      "        [ 308,  239, 2492,  ..., 2091, 2138,  723],\n",
      "        [1795, 2135, 1537,  ...,  201,  321, 2483],\n",
      "        [ 755,  734, 1592,  ..., 2650, 1391, 1548]])\n",
      "tensor([[2067, 1098,  918,  ..., 1413,  338, 1934],\n",
      "        [1113,  107, 1113,  ..., 1904, 1960, 1360],\n",
      "        [2610, 1049, 1432,  ..., 1054, 1577, 1099],\n",
      "        ...,\n",
      "        [1152,  897, 2295,  ...,  897, 1494,  436],\n",
      "        [  95, 2074,   95,  ..., 1838,   95, 2200],\n",
      "        [1374,  748, 1169,  ..., 1765, 1520, 1103]])\n",
      "tensor([[2067, 2236, 1261,  ..., 2178, 1884, 1459],\n",
      "        [1113, 2376,  464,  ..., 2114, 2186, 1969],\n",
      "        [2610, 2617, 1852,  ..., 1969, 2387,  506],\n",
      "        ...,\n",
      "        [ 621, 1288, 2312,  ..., 1376,  297, 1692],\n",
      "        [ 805,  201, 2547,  ..., 1953, 2415,  281],\n",
      "        [1096, 1463,  172,  ..., 1602, 1971, 2311]])\n",
      "tensor([[ 858, 2502,  858,  ..., 2182, 1838, 2182],\n",
      "        [ 493,  391,   68,  ..., 2241, 2242, 2241],\n",
      "        [2257, 1728, 2257,  ..., 1358,  764,  796],\n",
      "        ...,\n",
      "        [2436,  989, 1507,  ...,  795, 1810,  511],\n",
      "        [2034, 2040, 2120,  ...,   91, 2123, 2001],\n",
      "        [1834, 2359, 1433,  ..., 1745, 1486,  650]])\n",
      "tensor([[ 858,  689, 2642,  ..., 1400,  907, 1466],\n",
      "        [ 493, 2012,  346,  ..., 1752,    6, 1137],\n",
      "        [2257, 2030, 1453,  ..., 2469,   39,  531],\n",
      "        ...,\n",
      "        [ 200,   83, 2381,  ..., 1595, 1497,  179],\n",
      "        [2259, 2460,  244,  ...,  629,  326, 2389],\n",
      "        [1779, 2389, 2038,  ..., 1429, 1061,  454]])\n",
      "tensor([[2438, 2437, 2438,  ...,  168, 2437, 2438],\n",
      "        [ 966,  415,  204,  ...,  696,  277,  973],\n",
      "        [1364,   40,  507,  ..., 1939, 1542, 1300],\n",
      "        ...,\n",
      "        [ 456, 2199,  731,  ..., 1042, 2054, 1628],\n",
      "        [ 490, 1131, 1224,  ...,  661,  344, 2323],\n",
      "        [ 259, 2537,  117,  ..., 2537,  117,  259]])\n",
      "tensor([[2438, 2155,  246,  ..., 1902, 1944,   19],\n",
      "        [ 966, 2637, 1481,  ...,  789,  717,  477],\n",
      "        [1364,  858, 1377,  ..., 2359, 1555,  954],\n",
      "        ...,\n",
      "        [2008, 1166, 2683,  ..., 2157,  169,  416],\n",
      "        [1888,  428,   86,  ..., 1122,  844,  695],\n",
      "        [2060,   40, 2121,  ...,  413, 1311,  130]])\n",
      "Epoch: 01, Loss: 8.1449, Acc: 0.1530\n"
     ]
    },
    {
     "ename": "KeyboardInterrupt",
     "evalue": "",
     "output_type": "error",
     "traceback": [
      "\u001b[0;31m---------------------------------------------------------------------------\u001b[0m",
      "\u001b[0;31mKeyboardInterrupt\u001b[0m                         Traceback (most recent call last)",
      "\u001b[1;32m/Users/hsiangjenli/Documents/github/2023-it-help-ironman/n2v/test.ipynb Cell 2\u001b[0m line \u001b[0;36m2\n\u001b[1;32m     <a href='vscode-notebook-cell:/Users/hsiangjenli/Documents/github/2023-it-help-ironman/n2v/test.ipynb#W6sZmlsZQ%3D%3D?line=20'>21</a>\u001b[0m     \u001b[39mreturn\u001b[39;00m acc\n\u001b[1;32m     <a href='vscode-notebook-cell:/Users/hsiangjenli/Documents/github/2023-it-help-ironman/n2v/test.ipynb#W6sZmlsZQ%3D%3D?line=23'>24</a>\u001b[0m \u001b[39mfor\u001b[39;00m epoch \u001b[39min\u001b[39;00m \u001b[39mrange\u001b[39m(\u001b[39m1\u001b[39m, \u001b[39m20\u001b[39m):\n\u001b[0;32m---> <a href='vscode-notebook-cell:/Users/hsiangjenli/Documents/github/2023-it-help-ironman/n2v/test.ipynb#W6sZmlsZQ%3D%3D?line=24'>25</a>\u001b[0m     loss \u001b[39m=\u001b[39m train()\n\u001b[1;32m     <a href='vscode-notebook-cell:/Users/hsiangjenli/Documents/github/2023-it-help-ironman/n2v/test.ipynb#W6sZmlsZQ%3D%3D?line=25'>26</a>\u001b[0m     acc \u001b[39m=\u001b[39m test()\n\u001b[1;32m     <a href='vscode-notebook-cell:/Users/hsiangjenli/Documents/github/2023-it-help-ironman/n2v/test.ipynb#W6sZmlsZQ%3D%3D?line=26'>27</a>\u001b[0m     \u001b[39mprint\u001b[39m(\u001b[39mf\u001b[39m\u001b[39m'\u001b[39m\u001b[39mEpoch: \u001b[39m\u001b[39m{\u001b[39;00mepoch\u001b[39m:\u001b[39;00m\u001b[39m02d\u001b[39m\u001b[39m}\u001b[39;00m\u001b[39m, Loss: \u001b[39m\u001b[39m{\u001b[39;00mloss\u001b[39m:\u001b[39;00m\u001b[39m.4f\u001b[39m\u001b[39m}\u001b[39;00m\u001b[39m, Acc: \u001b[39m\u001b[39m{\u001b[39;00macc\u001b[39m:\u001b[39;00m\u001b[39m.4f\u001b[39m\u001b[39m}\u001b[39;00m\u001b[39m'\u001b[39m)\n",
      "\u001b[1;32m/Users/hsiangjenli/Documents/github/2023-it-help-ironman/n2v/test.ipynb Cell 2\u001b[0m line \u001b[0;36m4\n\u001b[1;32m      <a href='vscode-notebook-cell:/Users/hsiangjenli/Documents/github/2023-it-help-ironman/n2v/test.ipynb#W6sZmlsZQ%3D%3D?line=1'>2</a>\u001b[0m model\u001b[39m.\u001b[39mtrain()\n\u001b[1;32m      <a href='vscode-notebook-cell:/Users/hsiangjenli/Documents/github/2023-it-help-ironman/n2v/test.ipynb#W6sZmlsZQ%3D%3D?line=2'>3</a>\u001b[0m total_loss \u001b[39m=\u001b[39m \u001b[39m0\u001b[39m\n\u001b[0;32m----> <a href='vscode-notebook-cell:/Users/hsiangjenli/Documents/github/2023-it-help-ironman/n2v/test.ipynb#W6sZmlsZQ%3D%3D?line=3'>4</a>\u001b[0m \u001b[39mfor\u001b[39;00m pos_rw, neg_rw \u001b[39min\u001b[39;00m loader:\n\u001b[1;32m      <a href='vscode-notebook-cell:/Users/hsiangjenli/Documents/github/2023-it-help-ironman/n2v/test.ipynb#W6sZmlsZQ%3D%3D?line=4'>5</a>\u001b[0m     \u001b[39mprint\u001b[39m(pos_rw)\n\u001b[1;32m      <a href='vscode-notebook-cell:/Users/hsiangjenli/Documents/github/2023-it-help-ironman/n2v/test.ipynb#W6sZmlsZQ%3D%3D?line=5'>6</a>\u001b[0m     \u001b[39mprint\u001b[39m(neg_rw)\n",
      "File \u001b[0;32m~/miniconda3/lib/python3.11/site-packages/torch/utils/data/dataloader.py:633\u001b[0m, in \u001b[0;36m_BaseDataLoaderIter.__next__\u001b[0;34m(self)\u001b[0m\n\u001b[1;32m    630\u001b[0m \u001b[39mif\u001b[39;00m \u001b[39mself\u001b[39m\u001b[39m.\u001b[39m_sampler_iter \u001b[39mis\u001b[39;00m \u001b[39mNone\u001b[39;00m:\n\u001b[1;32m    631\u001b[0m     \u001b[39m# TODO(https://github.com/pytorch/pytorch/issues/76750)\u001b[39;00m\n\u001b[1;32m    632\u001b[0m     \u001b[39mself\u001b[39m\u001b[39m.\u001b[39m_reset()  \u001b[39m# type: ignore[call-arg]\u001b[39;00m\n\u001b[0;32m--> 633\u001b[0m data \u001b[39m=\u001b[39m \u001b[39mself\u001b[39m\u001b[39m.\u001b[39m_next_data()\n\u001b[1;32m    634\u001b[0m \u001b[39mself\u001b[39m\u001b[39m.\u001b[39m_num_yielded \u001b[39m+\u001b[39m\u001b[39m=\u001b[39m \u001b[39m1\u001b[39m\n\u001b[1;32m    635\u001b[0m \u001b[39mif\u001b[39;00m \u001b[39mself\u001b[39m\u001b[39m.\u001b[39m_dataset_kind \u001b[39m==\u001b[39m _DatasetKind\u001b[39m.\u001b[39mIterable \u001b[39mand\u001b[39;00m \\\n\u001b[1;32m    636\u001b[0m         \u001b[39mself\u001b[39m\u001b[39m.\u001b[39m_IterableDataset_len_called \u001b[39mis\u001b[39;00m \u001b[39mnot\u001b[39;00m \u001b[39mNone\u001b[39;00m \u001b[39mand\u001b[39;00m \\\n\u001b[1;32m    637\u001b[0m         \u001b[39mself\u001b[39m\u001b[39m.\u001b[39m_num_yielded \u001b[39m>\u001b[39m \u001b[39mself\u001b[39m\u001b[39m.\u001b[39m_IterableDataset_len_called:\n",
      "File \u001b[0;32m~/miniconda3/lib/python3.11/site-packages/torch/utils/data/dataloader.py:1328\u001b[0m, in \u001b[0;36m_MultiProcessingDataLoaderIter._next_data\u001b[0;34m(self)\u001b[0m\n\u001b[1;32m   1325\u001b[0m     \u001b[39mreturn\u001b[39;00m \u001b[39mself\u001b[39m\u001b[39m.\u001b[39m_process_data(data)\n\u001b[1;32m   1327\u001b[0m \u001b[39massert\u001b[39;00m \u001b[39mnot\u001b[39;00m \u001b[39mself\u001b[39m\u001b[39m.\u001b[39m_shutdown \u001b[39mand\u001b[39;00m \u001b[39mself\u001b[39m\u001b[39m.\u001b[39m_tasks_outstanding \u001b[39m>\u001b[39m \u001b[39m0\u001b[39m\n\u001b[0;32m-> 1328\u001b[0m idx, data \u001b[39m=\u001b[39m \u001b[39mself\u001b[39m\u001b[39m.\u001b[39m_get_data()\n\u001b[1;32m   1329\u001b[0m \u001b[39mself\u001b[39m\u001b[39m.\u001b[39m_tasks_outstanding \u001b[39m-\u001b[39m\u001b[39m=\u001b[39m \u001b[39m1\u001b[39m\n\u001b[1;32m   1330\u001b[0m \u001b[39mif\u001b[39;00m \u001b[39mself\u001b[39m\u001b[39m.\u001b[39m_dataset_kind \u001b[39m==\u001b[39m _DatasetKind\u001b[39m.\u001b[39mIterable:\n\u001b[1;32m   1331\u001b[0m     \u001b[39m# Check for _IterableDatasetStopIteration\u001b[39;00m\n",
      "File \u001b[0;32m~/miniconda3/lib/python3.11/site-packages/torch/utils/data/dataloader.py:1294\u001b[0m, in \u001b[0;36m_MultiProcessingDataLoaderIter._get_data\u001b[0;34m(self)\u001b[0m\n\u001b[1;32m   1290\u001b[0m     \u001b[39m# In this case, `self._data_queue` is a `queue.Queue`,. But we don't\u001b[39;00m\n\u001b[1;32m   1291\u001b[0m     \u001b[39m# need to call `.task_done()` because we don't use `.join()`.\u001b[39;00m\n\u001b[1;32m   1292\u001b[0m \u001b[39melse\u001b[39;00m:\n\u001b[1;32m   1293\u001b[0m     \u001b[39mwhile\u001b[39;00m \u001b[39mTrue\u001b[39;00m:\n\u001b[0;32m-> 1294\u001b[0m         success, data \u001b[39m=\u001b[39m \u001b[39mself\u001b[39m\u001b[39m.\u001b[39m_try_get_data()\n\u001b[1;32m   1295\u001b[0m         \u001b[39mif\u001b[39;00m success:\n\u001b[1;32m   1296\u001b[0m             \u001b[39mreturn\u001b[39;00m data\n",
      "File \u001b[0;32m~/miniconda3/lib/python3.11/site-packages/torch/utils/data/dataloader.py:1132\u001b[0m, in \u001b[0;36m_MultiProcessingDataLoaderIter._try_get_data\u001b[0;34m(self, timeout)\u001b[0m\n\u001b[1;32m   1119\u001b[0m \u001b[39mdef\u001b[39;00m \u001b[39m_try_get_data\u001b[39m(\u001b[39mself\u001b[39m, timeout\u001b[39m=\u001b[39m_utils\u001b[39m.\u001b[39mMP_STATUS_CHECK_INTERVAL):\n\u001b[1;32m   1120\u001b[0m     \u001b[39m# Tries to fetch data from `self._data_queue` once for a given timeout.\u001b[39;00m\n\u001b[1;32m   1121\u001b[0m     \u001b[39m# This can also be used as inner loop of fetching without timeout, with\u001b[39;00m\n\u001b[0;32m   (...)\u001b[0m\n\u001b[1;32m   1129\u001b[0m     \u001b[39m# Returns a 2-tuple:\u001b[39;00m\n\u001b[1;32m   1130\u001b[0m     \u001b[39m#   (bool: whether successfully get data, any: data if successful else None)\u001b[39;00m\n\u001b[1;32m   1131\u001b[0m     \u001b[39mtry\u001b[39;00m:\n\u001b[0;32m-> 1132\u001b[0m         data \u001b[39m=\u001b[39m \u001b[39mself\u001b[39m\u001b[39m.\u001b[39m_data_queue\u001b[39m.\u001b[39mget(timeout\u001b[39m=\u001b[39mtimeout)\n\u001b[1;32m   1133\u001b[0m         \u001b[39mreturn\u001b[39;00m (\u001b[39mTrue\u001b[39;00m, data)\n\u001b[1;32m   1134\u001b[0m     \u001b[39mexcept\u001b[39;00m \u001b[39mException\u001b[39;00m \u001b[39mas\u001b[39;00m e:\n\u001b[1;32m   1135\u001b[0m         \u001b[39m# At timeout and error, we manually check whether any worker has\u001b[39;00m\n\u001b[1;32m   1136\u001b[0m         \u001b[39m# failed. Note that this is the only mechanism for Windows to detect\u001b[39;00m\n\u001b[1;32m   1137\u001b[0m         \u001b[39m# worker failures.\u001b[39;00m\n",
      "File \u001b[0;32m~/miniconda3/lib/python3.11/multiprocessing/queues.py:113\u001b[0m, in \u001b[0;36mQueue.get\u001b[0;34m(self, block, timeout)\u001b[0m\n\u001b[1;32m    111\u001b[0m \u001b[39mif\u001b[39;00m block:\n\u001b[1;32m    112\u001b[0m     timeout \u001b[39m=\u001b[39m deadline \u001b[39m-\u001b[39m time\u001b[39m.\u001b[39mmonotonic()\n\u001b[0;32m--> 113\u001b[0m     \u001b[39mif\u001b[39;00m \u001b[39mnot\u001b[39;00m \u001b[39mself\u001b[39m\u001b[39m.\u001b[39m_poll(timeout):\n\u001b[1;32m    114\u001b[0m         \u001b[39mraise\u001b[39;00m Empty\n\u001b[1;32m    115\u001b[0m \u001b[39melif\u001b[39;00m \u001b[39mnot\u001b[39;00m \u001b[39mself\u001b[39m\u001b[39m.\u001b[39m_poll():\n",
      "File \u001b[0;32m~/miniconda3/lib/python3.11/multiprocessing/connection.py:256\u001b[0m, in \u001b[0;36m_ConnectionBase.poll\u001b[0;34m(self, timeout)\u001b[0m\n\u001b[1;32m    254\u001b[0m \u001b[39mself\u001b[39m\u001b[39m.\u001b[39m_check_closed()\n\u001b[1;32m    255\u001b[0m \u001b[39mself\u001b[39m\u001b[39m.\u001b[39m_check_readable()\n\u001b[0;32m--> 256\u001b[0m \u001b[39mreturn\u001b[39;00m \u001b[39mself\u001b[39m\u001b[39m.\u001b[39m_poll(timeout)\n",
      "File \u001b[0;32m~/miniconda3/lib/python3.11/multiprocessing/connection.py:423\u001b[0m, in \u001b[0;36mConnection._poll\u001b[0;34m(self, timeout)\u001b[0m\n\u001b[1;32m    422\u001b[0m \u001b[39mdef\u001b[39;00m \u001b[39m_poll\u001b[39m(\u001b[39mself\u001b[39m, timeout):\n\u001b[0;32m--> 423\u001b[0m     r \u001b[39m=\u001b[39m wait([\u001b[39mself\u001b[39m], timeout)\n\u001b[1;32m    424\u001b[0m     \u001b[39mreturn\u001b[39;00m \u001b[39mbool\u001b[39m(r)\n",
      "File \u001b[0;32m~/miniconda3/lib/python3.11/multiprocessing/connection.py:930\u001b[0m, in \u001b[0;36mwait\u001b[0;34m(object_list, timeout)\u001b[0m\n\u001b[1;32m    927\u001b[0m     deadline \u001b[39m=\u001b[39m time\u001b[39m.\u001b[39mmonotonic() \u001b[39m+\u001b[39m timeout\n\u001b[1;32m    929\u001b[0m \u001b[39mwhile\u001b[39;00m \u001b[39mTrue\u001b[39;00m:\n\u001b[0;32m--> 930\u001b[0m     ready \u001b[39m=\u001b[39m selector\u001b[39m.\u001b[39mselect(timeout)\n\u001b[1;32m    931\u001b[0m     \u001b[39mif\u001b[39;00m ready:\n\u001b[1;32m    932\u001b[0m         \u001b[39mreturn\u001b[39;00m [key\u001b[39m.\u001b[39mfileobj \u001b[39mfor\u001b[39;00m (key, events) \u001b[39min\u001b[39;00m ready]\n",
      "File \u001b[0;32m~/miniconda3/lib/python3.11/selectors.py:415\u001b[0m, in \u001b[0;36m_PollLikeSelector.select\u001b[0;34m(self, timeout)\u001b[0m\n\u001b[1;32m    413\u001b[0m ready \u001b[39m=\u001b[39m []\n\u001b[1;32m    414\u001b[0m \u001b[39mtry\u001b[39;00m:\n\u001b[0;32m--> 415\u001b[0m     fd_event_list \u001b[39m=\u001b[39m \u001b[39mself\u001b[39m\u001b[39m.\u001b[39m_selector\u001b[39m.\u001b[39mpoll(timeout)\n\u001b[1;32m    416\u001b[0m \u001b[39mexcept\u001b[39;00m \u001b[39mInterruptedError\u001b[39;00m:\n\u001b[1;32m    417\u001b[0m     \u001b[39mreturn\u001b[39;00m ready\n",
      "\u001b[0;31mKeyboardInterrupt\u001b[0m: "
     ]
    }
   ],
   "source": [
    "def train():\n",
    "    model.train()\n",
    "    total_loss = 0\n",
    "    for pos_rw, neg_rw in loader:\n",
    "        optimizer.zero_grad()\n",
    "        loss = model.loss(pos_rw.to(device), neg_rw.to(device))\n",
    "        loss.backward()\n",
    "        optimizer.step()\n",
    "        total_loss += loss.item()\n",
    "    return total_loss / len(loader)\n",
    "\n",
    "\n",
    "@torch.no_grad()\n",
    "def test():\n",
    "    model.eval()\n",
    "    z = model()\n",
    "    acc = model.test(z[data.train_mask], data.y[data.train_mask],\n",
    "                     z[data.test_mask], data.y[data.test_mask], max_iter=150)\n",
    "    return acc\n",
    "\n",
    "\n",
    "for epoch in range(1, 20):\n",
    "    loss = train()\n",
    "    acc = test()\n",
    "    print(f'Epoch: {epoch:02d}, Loss: {loss:.4f}, Acc: {acc:.4f}')\n",
    "\n",
    "\n",
    "@torch.no_grad()\n",
    "def plot_points(colors):\n",
    "    model.eval()\n",
    "    z = model(torch.arange(data.num_nodes, device=device))\n",
    "    z = TSNE(n_components=2).fit_transform(z.cpu().numpy())\n",
    "    y = data.y.cpu().numpy()\n",
    "\n",
    "    plt.figure(figsize=(8, 8))\n",
    "    for i in range(dataset.num_classes):\n",
    "        plt.scatter(z[y == i, 0], z[y == i, 1], s=20, color=colors[i])\n",
    "    plt.axis('off')\n",
    "    plt.show()\n",
    "\n",
    "\n",
    "colors = ['#ffc0cb', '#bada55', '#008080', '#420420', '#7fe5f0', '#065535', '#ffd700']\n",
    "plot_points(colors)"
   ]
  },
  {
   "cell_type": "code",
   "execution_count": 3,
   "metadata": {},
   "outputs": [
    {
     "ename": "NameError",
     "evalue": "name 'pos_rw' is not defined",
     "output_type": "error",
     "traceback": [
      "\u001b[0;31m---------------------------------------------------------------------------\u001b[0m",
      "\u001b[0;31mNameError\u001b[0m                                 Traceback (most recent call last)",
      "\u001b[1;32m/Users/hsiangjenli/Documents/github/2023-it-help-ironman/n2v/test.ipynb Cell 3\u001b[0m line \u001b[0;36m1\n\u001b[0;32m----> <a href='vscode-notebook-cell:/Users/hsiangjenli/Documents/github/2023-it-help-ironman/n2v/test.ipynb#X34sZmlsZQ%3D%3D?line=0'>1</a>\u001b[0m pos_rw\n",
      "\u001b[0;31mNameError\u001b[0m: name 'pos_rw' is not defined"
     ]
    }
   ],
   "source": []
  },
  {
   "cell_type": "code",
   "execution_count": null,
   "metadata": {},
   "outputs": [],
   "source": []
  },
  {
   "cell_type": "code",
   "execution_count": null,
   "metadata": {},
   "outputs": [],
   "source": []
  },
  {
   "cell_type": "code",
   "execution_count": null,
   "metadata": {},
   "outputs": [],
   "source": []
  },
  {
   "cell_type": "code",
   "execution_count": 4,
   "metadata": {},
   "outputs": [],
   "source": [
    "model.eval()\n",
    "z = model(torch.arange(data.num_nodes, device=device))"
   ]
  },
  {
   "cell_type": "code",
   "execution_count": 2,
   "metadata": {},
   "outputs": [
    {
     "data": {
      "text/plain": [
       "{'x': tensor([[0., 0., 0.,  ..., 0., 0., 0.],\n",
       "         [0., 0., 0.,  ..., 0., 0., 0.],\n",
       "         [0., 0., 0.,  ..., 0., 0., 0.],\n",
       "         ...,\n",
       "         [0., 0., 0.,  ..., 0., 0., 0.],\n",
       "         [0., 0., 0.,  ..., 0., 0., 0.],\n",
       "         [0., 0., 0.,  ..., 0., 0., 0.]]),\n",
       " 'edge_index': tensor([[   0,    0,    0,  ..., 2707, 2707, 2707],\n",
       "         [ 633, 1862, 2582,  ...,  598, 1473, 2706]]),\n",
       " 'y': tensor([3, 4, 4,  ..., 3, 3, 3]),\n",
       " 'train_mask': tensor([ True,  True,  True,  ..., False, False, False]),\n",
       " 'val_mask': tensor([False, False, False,  ..., False, False, False]),\n",
       " 'test_mask': tensor([False, False, False,  ...,  True,  True,  True])}"
      ]
     },
     "execution_count": 2,
     "metadata": {},
     "output_type": "execute_result"
    }
   ],
   "source": [
    "data.to_dict()"
   ]
  },
  {
   "cell_type": "code",
   "execution_count": 8,
   "metadata": {},
   "outputs": [
    {
     "data": {
      "text/plain": [
       "tensor(500)"
      ]
     },
     "execution_count": 8,
     "metadata": {},
     "output_type": "execute_result"
    }
   ],
   "source": [
    "sum(data.val_mask)"
   ]
  },
  {
   "cell_type": "code",
   "execution_count": 9,
   "metadata": {},
   "outputs": [
    {
     "data": {
      "text/plain": [
       "tensor(140)"
      ]
     },
     "execution_count": 9,
     "metadata": {},
     "output_type": "execute_result"
    }
   ],
   "source": [
    "sum(data.train_mask)"
   ]
  },
  {
   "cell_type": "code",
   "execution_count": 10,
   "metadata": {},
   "outputs": [
    {
     "data": {
      "text/plain": [
       "tensor(1000)"
      ]
     },
     "execution_count": 10,
     "metadata": {},
     "output_type": "execute_result"
    }
   ],
   "source": [
    "sum(data.test_mask)"
   ]
  },
  {
   "cell_type": "code",
   "execution_count": 16,
   "metadata": {},
   "outputs": [
    {
     "data": {
      "text/plain": [
       "{'x': tensor([[0., 0., 0.,  ..., 0., 0., 0.],\n",
       "         [0., 0., 0.,  ..., 0., 0., 0.],\n",
       "         [0., 0., 0.,  ..., 0., 0., 0.],\n",
       "         ...,\n",
       "         [0., 0., 0.,  ..., 0., 0., 0.],\n",
       "         [0., 0., 0.,  ..., 0., 0., 0.],\n",
       "         [0., 0., 0.,  ..., 0., 0., 0.]]),\n",
       " 'edge_index': tensor([[   0,    0,    0,  ..., 2707, 2707, 2707],\n",
       "         [ 633, 1862, 2582,  ...,  598, 1473, 2706]]),\n",
       " 'y': tensor([3, 4, 4,  ..., 3, 3, 3]),\n",
       " 'train_mask': tensor([ True,  True,  True,  ..., False, False, False]),\n",
       " 'val_mask': tensor([False, False, False,  ..., False, False, False]),\n",
       " 'test_mask': tensor([False, False, False,  ...,  True,  True,  True])}"
      ]
     },
     "execution_count": 16,
     "metadata": {},
     "output_type": "execute_result"
    }
   ],
   "source": [
    "data.to_dict()"
   ]
  },
  {
   "cell_type": "code",
   "execution_count": 22,
   "metadata": {},
   "outputs": [
    {
     "data": {
      "text/plain": [
       "Data(x=[2708, 1433], edge_index=[2, 10556], y=[2708], train_mask=[2708], val_mask=[2708], test_mask=[2708])"
      ]
     },
     "execution_count": 22,
     "metadata": {},
     "output_type": "execute_result"
    }
   ],
   "source": [
    "data"
   ]
  },
  {
   "cell_type": "code",
   "execution_count": 22,
   "metadata": {},
   "outputs": [
    {
     "data": {
      "text/plain": [
       "10556"
      ]
     },
     "execution_count": 22,
     "metadata": {},
     "output_type": "execute_result"
    }
   ],
   "source": [
    "data.num_edges"
   ]
  },
  {
   "cell_type": "code",
   "execution_count": 16,
   "metadata": {},
   "outputs": [
    {
     "data": {
      "text/plain": [
       "0.595"
      ]
     },
     "execution_count": 16,
     "metadata": {},
     "output_type": "execute_result"
    }
   ],
   "source": [
    "z = model()\n",
    "model.test(z[data.train_mask], data.y[data.train_mask],\n",
    "                     z[data.test_mask], data.y[data.test_mask], max_iter=150)"
   ]
  },
  {
   "cell_type": "code",
   "execution_count": 21,
   "metadata": {},
   "outputs": [
    {
     "data": {
      "text/plain": [
       "torch.Size([1000, 128])"
      ]
     },
     "execution_count": 21,
     "metadata": {},
     "output_type": "execute_result"
    }
   ],
   "source": [
    "z[data.test_mask].shape"
   ]
  }
 ],
 "metadata": {
  "kernelspec": {
   "display_name": "base",
   "language": "python",
   "name": "python3"
  },
  "language_info": {
   "codemirror_mode": {
    "name": "ipython",
    "version": 3
   },
   "file_extension": ".py",
   "mimetype": "text/x-python",
   "name": "python",
   "nbconvert_exporter": "python",
   "pygments_lexer": "ipython3",
   "version": "3.11.4"
  },
  "orig_nbformat": 4
 },
 "nbformat": 4,
 "nbformat_minor": 2
}

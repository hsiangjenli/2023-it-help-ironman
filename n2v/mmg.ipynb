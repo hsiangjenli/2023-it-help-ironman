{
 "cells": [
  {
   "cell_type": "code",
   "execution_count": 1,
   "metadata": {},
   "outputs": [],
   "source": [
    "import mgclient\n",
    "import torch\n",
    "\n",
    "conn = mgclient.connect(host=\"localhost\", port=7687)\n",
    "cursor = conn.cursor()\n",
    "\n",
    "subject_map = {\n",
    "    'Case_Based': 0,\n",
    "    'Genetic_Algorithms': 1,\n",
    "    'Neural_Networks': 2,\n",
    "    'Probabilistic_Methods': 3,\n",
    "    'Reinforcement_Learning': 4,\n",
    "    'Rule_Learning': 5,\n",
    "    'Theory': 6\n",
    "}\n",
    "\n",
    "cursor.execute(\"MATCH (n) RETURN n.features, n.subject\")\n",
    "r_node_properties = cursor.fetchall()\n",
    "x = torch.tensor([x[0] for x in r_node_properties], dtype=torch.float32)\n",
    "y = torch.tensor([subject_map.get(x[1], 7) for x in r_node_properties])\n",
    "\n",
    "cursor.execute(\"MATCH (n)-[r]->(m) RETURN n.id, type(r), m.id\")\n",
    "r_edge_index = cursor.fetchall()\n",
    "edge_index = torch.tensor([(n1, n2) for (n1, r, n2) in r_edge_index], dtype=torch.long).t().contiguous()"
   ]
  },
  {
   "cell_type": "code",
   "execution_count": 2,
   "metadata": {},
   "outputs": [
    {
     "data": {
      "text/plain": [
       "tensor([[  31349,  686532, 1129442,  ...,  928873,   15076, 1111265],\n",
       "        [  31336,   31336,   31336,  ...,   24043,   24043,   24043]])"
      ]
     },
     "execution_count": 2,
     "metadata": {},
     "output_type": "execute_result"
    }
   ],
   "source": [
    "edge_index"
   ]
  },
  {
   "cell_type": "code",
   "execution_count": 3,
   "metadata": {},
   "outputs": [
    {
     "name": "stdout",
     "output_type": "stream",
     "text": [
      "tensor([[ 463, 1802, 2390,  ..., 1886,  278, 2094],\n",
      "        [ 462,  462,  462,  ...,  376,  376,  376]])\n"
     ]
    }
   ],
   "source": [
    "unique_values, indices_edge_index = torch.unique(edge_index, return_inverse=True)\n",
    "\n",
    "print(indices_edge_index)"
   ]
  },
  {
   "cell_type": "code",
   "execution_count": 4,
   "metadata": {},
   "outputs": [],
   "source": [
    "from torch_geometric.data import Data\n",
    "from torch_geometric.transforms import RandomNodeSplit\n",
    "from torch_geometric.transforms import ToUndirected\n",
    "\n",
    "data = Data(x=x, y=y, edge_index=indices_edge_index)\n",
    "data = RandomNodeSplit('random', num_train_per_class=20)(data)\n",
    "data = ToUndirected()(data)"
   ]
  },
  {
   "cell_type": "code",
   "execution_count": 5,
   "metadata": {},
   "outputs": [
    {
     "data": {
      "text/plain": [
       "(tensor(140), tensor(500), tensor(1000))"
      ]
     },
     "execution_count": 5,
     "metadata": {},
     "output_type": "execute_result"
    }
   ],
   "source": [
    "sum(data.train_mask), sum(data.val_mask), sum(data.test_mask)"
   ]
  },
  {
   "cell_type": "code",
   "execution_count": 6,
   "metadata": {},
   "outputs": [],
   "source": [
    "from torch_geometric.datasets import Planetoid\n",
    "\n",
    "dataset = Planetoid(root='/tmp/Cora', name='Cora')"
   ]
  },
  {
   "cell_type": "code",
   "execution_count": 7,
   "metadata": {},
   "outputs": [],
   "source": [
    "from torch_geometric.nn import Node2Vec\n",
    "from torch.optim import SparseAdam\n",
    "\n",
    "device = 'cuda' if torch.cuda.is_available() else 'cpu'\n",
    "\n",
    "model = Node2Vec(\n",
    "    data.edge_index, \n",
    "    embedding_dim=128, \n",
    "    walk_length=20,\n",
    "    context_size=10, \n",
    "    walks_per_node=10, \n",
    "    num_negative_samples=1,\n",
    "    sparse=True\n",
    "    ).to(device)\n",
    "\n",
    "loader = model.loader(batch_size=128, shuffle=True, num_workers=8)\n",
    "optimizer = SparseAdam(model.parameters(), lr=0.01)"
   ]
  },
  {
   "cell_type": "code",
   "execution_count": 8,
   "metadata": {},
   "outputs": [
    {
     "name": "stdout",
     "output_type": "stream",
     "text": [
      "Epoch: 01, Loss: 8.1461\n",
      "Epoch: 02, Loss: 6.0581\n",
      "Epoch: 03, Loss: 4.9558\n",
      "Epoch: 04, Loss: 4.1438\n",
      "Epoch: 05, Loss: 3.4827\n",
      "Epoch: 06, Loss: 2.9640\n",
      "Epoch: 07, Loss: 2.5497\n",
      "Epoch: 08, Loss: 2.2196\n",
      "Epoch: 09, Loss: 1.9519\n",
      "Epoch: 10, Loss: 1.7411\n"
     ]
    }
   ],
   "source": [
    "for epoch in range(1, 11):\n",
    "    model.train()\n",
    "\n",
    "    total_loss = 0\n",
    "    for pos_rw, neg_rw in loader:\n",
    "        optimizer.zero_grad()\n",
    "        loss = model.loss(pos_rw.to(device), neg_rw.to(device))\n",
    "        loss.backward()\n",
    "        optimizer.step()\n",
    "        total_loss += loss.item()\n",
    "\n",
    "    print('Epoch: {:02d}, Loss: {:.4f}'.format(epoch, total_loss / len(loader)))"
   ]
  }
 ],
 "metadata": {
  "kernelspec": {
   "display_name": "base",
   "language": "python",
   "name": "python3"
  },
  "language_info": {
   "codemirror_mode": {
    "name": "ipython",
    "version": 3
   },
   "file_extension": ".py",
   "mimetype": "text/x-python",
   "name": "python",
   "nbconvert_exporter": "python",
   "pygments_lexer": "ipython3",
   "version": "3.11.4"
  },
  "orig_nbformat": 4
 },
 "nbformat": 4,
 "nbformat_minor": 2
}

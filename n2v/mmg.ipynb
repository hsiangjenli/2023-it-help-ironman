{
 "cells": [
  {
   "cell_type": "code",
   "execution_count": null,
   "metadata": {},
   "outputs": [],
   "source": [
    "import mgclient\n",
    "import torch\n",
    "\n",
    "conn = mgclient.connect(host=\"localhost\", port=7687)\n",
    "cursor = conn.cursor()\n",
    "\n",
    "subject_map = {\n",
    "    'Case_Based': 0,\n",
    "    'Genetic_Algorithms': 1,\n",
    "    'Neural_Networks': 2,\n",
    "    'Probabilistic_Methods': 3,\n",
    "    'Reinforcement_Learning': 4,\n",
    "    'Rule_Learning': 5,\n",
    "    'Theory': 6\n",
    "}\n",
    "\n",
    "cursor.execute(\"MATCH (n) RETURN n.features, n.subject\")\n",
    "r_node_properties = cursor.fetchall()\n",
    "x = torch.tensor([x[0] for x in r_node_properties], dtype=torch.float32)\n",
    "y = torch.tensor([subject_map.get(x[1], 7) for x in r_node_properties])\n",
    "\n",
    "cursor.execute(\"MATCH (n)-[r]->(m) RETURN n.id, type(r), m.id\")\n",
    "r_edge_index = cursor.fetchall()\n",
    "edge_index = torch.tensor([(n1, n2) for (n1, r, n2) in r_edge_index], dtype=torch.long).t().contiguous()"
   ]
  },
  {
   "cell_type": "code",
   "execution_count": null,
   "metadata": {},
   "outputs": [],
   "source": [
    "edge_index"
   ]
  },
  {
   "cell_type": "code",
   "execution_count": null,
   "metadata": {},
   "outputs": [],
   "source": [
    "unique_values, indices_edge_index = torch.unique(edge_index, return_inverse=True)\n",
    "\n",
    "print(indices_edge_index)"
   ]
  },
  {
   "cell_type": "code",
   "execution_count": null,
   "metadata": {},
   "outputs": [],
   "source": [
    "from torch_geometric.data import Data\n",
    "from torch_geometric.transforms import RandomNodeSplit\n",
    "\n",
    "data = Data(x=x, y=y, edge_index=indices_edge_index)\n",
    "data = RandomNodeSplit('random', num_train_per_class=20)(data)"
   ]
  },
  {
   "cell_type": "code",
   "execution_count": null,
   "metadata": {},
   "outputs": [],
   "source": [
    "sum(data.train_mask), sum(data.val_mask), sum(data.test_mask)"
   ]
  },
  {
   "cell_type": "code",
   "execution_count": null,
   "metadata": {},
   "outputs": [],
   "source": [
    "from torch_geometric.nn import Node2Vec\n",
    "from torch.optim import SparseAdam\n",
    "\n",
    "device = 'cuda' if torch.cuda.is_available() else 'cpu'\n",
    "\n",
    "model = Node2Vec(\n",
    "    data.edge_index, \n",
    "    embedding_dim=256, \n",
    "    walk_length=5,\n",
    "    context_size=5, \n",
    "    walks_per_node=30, \n",
    "    num_negative_samples=1,\n",
    "    sparse=True\n",
    "    ).to(device)\n",
    "\n",
    "loader = model.loader(batch_size=128, shuffle=True, num_workers=8)\n",
    "optimizer = SparseAdam(model.parameters(), lr=0.01)"
   ]
  },
  {
   "cell_type": "code",
   "execution_count": null,
   "metadata": {},
   "outputs": [],
   "source": [
    "for epoch in range(1, 101):\n",
    "    model.train()\n",
    "\n",
    "    total_loss = 0\n",
    "    for pos_rw, neg_rw in loader:\n",
    "        optimizer.zero_grad()\n",
    "        loss = model.loss(pos_rw.to(device), neg_rw.to(device))\n",
    "        loss.backward()\n",
    "        optimizer.step()\n",
    "        total_loss += loss.item()\n",
    "\n",
    "    print('Epoch: {:02d}, Loss: {:.4f}'.format(epoch, total_loss / len(loader)))"
   ]
  },
  {
   "cell_type": "code",
   "execution_count": null,
   "metadata": {},
   "outputs": [],
   "source": [
    "from sklearn.manifold import TSNE\n",
    "\n",
    "model.eval()\n",
    "\n",
    "y = data.y.cpu().numpy()\n",
    "embedding = model(torch.arange(data.num_nodes, device=device))\n",
    "embedding_2 = TSNE(n_components=2).fit_transform(embedding.detach().numpy())"
   ]
  },
  {
   "cell_type": "code",
   "execution_count": null,
   "metadata": {},
   "outputs": [],
   "source": [
    "from matplotlib import pyplot as plt\n",
    "\n",
    "plt.style.use('fivethirtyeight')\n",
    "\n",
    "@torch.no_grad()\n",
    "def output_vis():\n",
    "    for i in range(7):\n",
    "        output_dim_1 = embedding_2[y == i, 0]\n",
    "        output_dim_2 = embedding_2[y == i, 1]\n",
    "        label = list(subject_map.keys())[i]\n",
    "        \n",
    "        plt.scatter(output_dim_1, output_dim_2, label=label, s=15)\n",
    "\n",
    "    plt.legend(loc=2, prop={'size': 7})\n",
    "    plt.show()\n",
    "\n",
    "output_vis()"
   ]
  }
 ],
 "metadata": {
  "kernelspec": {
   "display_name": "base",
   "language": "python",
   "name": "python3"
  },
  "language_info": {
   "codemirror_mode": {
    "name": "ipython",
    "version": 3
   },
   "file_extension": ".py",
   "mimetype": "text/x-python",
   "name": "python",
   "nbconvert_exporter": "python",
   "pygments_lexer": "ipython3",
   "version": "3.11.4"
  },
  "orig_nbformat": 4
 },
 "nbformat": 4,
 "nbformat_minor": 2
}
